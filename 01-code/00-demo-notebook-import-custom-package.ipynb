{
 "cells": [
  {
   "cell_type": "markdown",
   "id": "663cd36b",
   "metadata": {},
   "source": [
    "# To use this first install the package using\n",
    "```bash\n",
    "pip install -e .\n",
    "```\n",
    "At the command line into your environment.\n",
    "Then you can call functions from your package no matter where the scripts\n",
    "and notebooks are located as long as the environment is activated."
   ]
  },
  {
   "cell_type": "code",
   "execution_count": 5,
   "id": "303a6654",
   "metadata": {},
   "outputs": [],
   "source": [
    "from demo_python_package import random_list2"
   ]
  },
  {
   "cell_type": "code",
   "execution_count": 6,
   "id": "ab7546c1",
   "metadata": {},
   "outputs": [
    {
     "data": {
      "text/plain": [
       "[-27, 6, -25, -51, 34, 14, 34, -89, -62]"
      ]
     },
     "execution_count": 6,
     "metadata": {},
     "output_type": "execute_result"
    }
   ],
   "source": [
    "random_list2()"
   ]
  }
 ],
 "metadata": {
  "kernelspec": {
   "display_name": "Python 3",
   "language": "python",
   "name": "python3"
  },
  "language_info": {
   "codemirror_mode": {
    "name": "ipython",
    "version": 3
   },
   "file_extension": ".py",
   "mimetype": "text/x-python",
   "name": "python",
   "nbconvert_exporter": "python",
   "pygments_lexer": "ipython3",
   "version": "3.8.10"
  },
  "toc": {
   "base_numbering": 1,
   "nav_menu": {},
   "number_sections": true,
   "sideBar": true,
   "skip_h1_title": false,
   "title_cell": "Table of Contents",
   "title_sidebar": "Contents",
   "toc_cell": false,
   "toc_position": {},
   "toc_section_display": true,
   "toc_window_display": false
  }
 },
 "nbformat": 4,
 "nbformat_minor": 5
}
